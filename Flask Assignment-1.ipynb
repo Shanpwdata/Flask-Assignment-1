{
 "cells": [
  {
   "cell_type": "markdown",
   "id": "49f95570-4ed5-4617-bdb5-2998d293ca1a",
   "metadata": {},
   "source": [
    "Q1. What is Flask Framework? What are the advantages of Flask Framework?"
   ]
  },
  {
   "cell_type": "markdown",
   "id": "91f20367-1c15-4f32-9424-177580c7c245",
   "metadata": {},
   "source": [
    "#Ans_1.\n",
    "Flask is a micro web framework written in Python that provides a simple and easy way to build web applications.\n",
    "Flask is a micro framework that has a simpler and more straightforward design compared to full-stack frameworks like Django. This makes it easier to learn and use for beginners, but it also means that it may have limited functionality compared to full-stack framework."
   ]
  },
  {
   "cell_type": "markdown",
   "id": "bbeb760e-7a92-415e-8347-8be12d64691c",
   "metadata": {},
   "source": [
    "Q2. Create a simple Flask application to display ‘Hello World!!’. Attach the screenshot of the output in\n",
    "Jupyter Notebook."
   ]
  },
  {
   "cell_type": "code",
   "execution_count": null,
   "id": "d48d7f1d-af6b-42ac-b5a0-d9cf0e1aa1a1",
   "metadata": {},
   "outputs": [],
   "source": [
    "#Ans_2.\n",
    "from flask import Flask\n",
    "\n",
    "app = Flask(__name__)\n",
    "\n",
    "@app.route(\"/\")\n",
    "def hello_world():\n",
    "    return \"<h1>Hello, World!!</h1>\"\n",
    "\n",
    "if __name__==\"__main__\":\n",
    "    app.run(host=\"0.0.0.0\")"
   ]
  },
  {
   "cell_type": "code",
   "execution_count": null,
   "id": "0288dad3-769b-4908-906a-9eed77c3c7e8",
   "metadata": {},
   "outputs": [],
   "source": [
    "https://drive.google.com/file/d/1gGDFnK8FU445UfgkU3J8V5DzymYsoNap/view?usp=sharing"
   ]
  },
  {
   "cell_type": "markdown",
   "id": "30cded24-b96e-42c4-b6a9-47b7efa12438",
   "metadata": {},
   "source": [
    "Q3. What is App routing in Flask? Why do we use app routes?"
   ]
  },
  {
   "cell_type": "markdown",
   "id": "0c59ba45-f465-432b-a64e-cacc57668c01",
   "metadata": {},
   "source": [
    "#Ans_3.\n",
    "In Flask, the process of defining the URLs that map to specific functions or methods in your application is known as routing. When a user visits a URL in your application, Flask uses the routing rules to determine which function or method should handle the request and return the response.\n",
    "App routing is the technique used to map the specific URL with the associated function intended to perform some task. The Latest Web frameworks use the routing technique to help users remember application URLs. It is helpful to access the desired page directly without navigating from the home page."
   ]
  },
  {
   "cell_type": "markdown",
   "id": "acc16dc5-7494-4c5c-9114-e5c8ae66bfdf",
   "metadata": {},
   "source": [
    "Q4. Create a “/welcome” route to display the welcome message “Welcome to ABC Corporation” and a “/”\n",
    "route to show the following details:\n",
    "Company Name: ABC Corporation\n",
    "Location: India\n",
    "Contact Detail: 999-999-9999\n",
    "Attach the screenshot of the output in Jupyter Notebook."
   ]
  },
  {
   "cell_type": "code",
   "execution_count": null,
   "id": "2d229d51-e189-4e12-b5c1-eeb5c1f51b0a",
   "metadata": {},
   "outputs": [],
   "source": [
    "#Ans_4.\n",
    "from flask import Flask\n",
    "\n",
    "app = Flask(__name__)\n",
    "\n",
    "@app.route(\"/welcome\")\n",
    "def welcome_msg():\n",
    "    return \"<h1>Welcome to ABC Corporation</h1>\"\n",
    "\n",
    "@app.route(\"/\")\n",
    "def display():\n",
    "    return \"Company Name: ABC Corporation \\n Location: India \\n Contact Detail: 999-999-9999\"\n",
    "\n",
    "if __name__==\"__main__\":\n",
    "    app.run(host=\"0.0.0.0\")"
   ]
  },
  {
   "cell_type": "code",
   "execution_count": null,
   "id": "85159299-3ba9-4cd9-b79e-18a1438ebbf1",
   "metadata": {},
   "outputs": [],
   "source": [
    "https://drive.google.com/file/d/1Ekvo5S6syGJOZQjSoJzvEMLoNdibBmYT/view?usp=sharing\n",
    "https://drive.google.com/file/d/10my1MbjRwKfDNDrKzxWdrM3bXBJdSHlx/view?usp=sharing"
   ]
  },
  {
   "cell_type": "markdown",
   "id": "29bbbece-2f7c-4ffd-a574-0461d0f18f25",
   "metadata": {},
   "source": [
    "Q5. What function is used in Flask for URL Building? Write a Python code to demonstrate the working of the\n",
    "url_for() function."
   ]
  },
  {
   "cell_type": "markdown",
   "id": "de5d3972-2db9-4419-a0fa-9c3ed7d091a2",
   "metadata": {},
   "source": [
    "#Ans_5.\n",
    "To specify a URL parameter with a default value in Flask, you can use the \"defaults\" argument of the @app.route() decorator. For example, @app.route('/<param>', defaults={'param': 'default'}) would match URLs like '/value' and '/default' would be the default value for the parameter 'param'.\n",
    "\n",
    "from flask import Flask,url_for\n",
    "\n",
    "app = Flask(__name__)\n",
    "\n",
    "@app.route(\"/\")\n",
    "def index():\n",
    "    return \"<h1>Welcome to Main Page</h1>\"\n",
    "\n",
    "@app.route(\"/user/<username>\")\n",
    "def user_profile(username):\n",
    "    return f\"This is the profile page of {username}.\"\n",
    "\n",
    "@app.route(\"/identity/<int:id>\")\n",
    "def identity(id):\n",
    "    return f\"This {username} having with ID {id}.\"\n",
    "\n",
    "if __name__==\"__main__\":\n",
    "    app.run(host=\"0.0.0.0\")"
   ]
  }
 ],
 "metadata": {
  "kernelspec": {
   "display_name": "Python 3 (ipykernel)",
   "language": "python",
   "name": "python3"
  },
  "language_info": {
   "codemirror_mode": {
    "name": "ipython",
    "version": 3
   },
   "file_extension": ".py",
   "mimetype": "text/x-python",
   "name": "python",
   "nbconvert_exporter": "python",
   "pygments_lexer": "ipython3",
   "version": "3.10.8"
  }
 },
 "nbformat": 4,
 "nbformat_minor": 5
}
